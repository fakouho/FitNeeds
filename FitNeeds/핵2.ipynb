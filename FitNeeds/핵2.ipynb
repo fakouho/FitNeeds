{
 "cells": [
  {
   "cell_type": "markdown",
   "id": "5cc89fa3",
   "metadata": {},
   "source": [
    "#   1. import"
   ]
  },
  {
   "cell_type": "code",
   "execution_count": 1,
   "id": "288e1bba",
   "metadata": {},
   "outputs": [],
   "source": [
    "from selenium import webdriver as wb\n",
    "from selenium.webdriver.common.by import By\n",
    "import time\n",
    "from flask_cors import CORS\n",
    "from flask import Flask,request \n",
    "from flask import Flask, jsonify\n",
    "from selenium.common.exceptions import NoSuchElementException"
   ]
  },
  {
   "cell_type": "markdown",
   "id": "0e26be5d",
   "metadata": {},
   "source": [
    "# 2. flask "
   ]
  },
  {
   "cell_type": "code",
   "execution_count": null,
   "id": "03600990",
   "metadata": {},
   "outputs": [
    {
     "name": "stdout",
     "output_type": "stream",
     "text": [
      " * Serving Flask app '__main__'\n",
      " * Debug mode: off\n"
     ]
    },
    {
     "name": "stderr",
     "output_type": "stream",
     "text": [
      "WARNING: This is a development server. Do not use it in a production deployment. Use a production WSGI server instead.\n",
      " * Running on http://127.0.0.1:5000\n",
      "Press CTRL+C to quit\n"
     ]
    },
    {
     "name": "stdout",
     "output_type": "stream",
     "text": [
      "Current session is 91019abcaf57aa569f6e7ef82eabcb90\n"
     ]
    },
    {
     "name": "stderr",
     "output_type": "stream",
     "text": [
      "127.0.0.1 - - [03/Apr/2024 14:44:40] \"GET /news HTTP/1.1\" 200 -\n",
      "127.0.0.1 - - [03/Apr/2024 14:44:41] \"GET /diet HTTP/1.1\" 200 -\n",
      "127.0.0.1 - - [03/Apr/2024 14:44:41] \"GET /routine HTTP/1.1\" 200 -\n"
     ]
    }
   ],
   "source": [
    "app = Flask(__name__)\n",
    "\n",
    "CORS(app)\n",
    "\n",
    "# 라우트 설정\n",
    "@app.route('/diet')\n",
    "def get_diet():\n",
    "    url,thumb_url,title = diet_find()\n",
    "    return jsonify({'url': url,'thumb_url':thumb_url,'title': title})\n",
    "\n",
    "@app.route('/news')\n",
    "def get_news():\n",
    "    url,thumb_url,title = news_find()\n",
    "    return jsonify({'url': url,'thumb_url':thumb_url,'title': title})\n",
    "\n",
    "@app.route('/routine')\n",
    "def get_routine():\n",
    "    url,thumb_url,title = routine_find()\n",
    "    return jsonify({'url': url,'thumb_url':thumb_url,'title': title})\n",
    "\n",
    "if __name__ == '__main__':\n",
    "    app.run()"
   ]
  },
  {
   "cell_type": "markdown",
   "id": "70e24d2c",
   "metadata": {},
   "source": [
    "# 3. def  > vscode에서 받아쓸 수있는 url값 받아오기"
   ]
  },
  {
   "cell_type": "code",
   "execution_count": 2,
   "id": "e29d39c4",
   "metadata": {},
   "outputs": [],
   "source": [
    "#real > test완료\n",
    "def news_find():\n",
    "    #1.크롬창 생성\n",
    "    driver = wb.Chrome()\n",
    "    #2. 운동식단.<<뉴스>>. 최신순 사이트 들어가기\n",
    "    driver.get(\"https://search.naver.com/search.naver?where=news&query=%EC%9A%B4%EB%8F%99%EC%8B%9D%EB%8B%A8&sm=tab_opt&sort=1\")\n",
    "    #3.크롤링해온 값에 image가 없다면 찾을 수 없음 출력, 있다면 블로그 url과 썸네일 url가져오기\n",
    "    i = 1\n",
    "    url = ''\n",
    "    thumb_url = ''\n",
    "    while i < 10:\n",
    "        try:\n",
    "            # URL 가져오기\n",
    "            url_selector = f\"#sp_nws{i} > div > div > div.news_contents > a.news_tit\"\n",
    "            #sp_nws1 > div > div > div.news_contents > a.news_tit\n",
    "            #sp_nws2 > div > div > div.news_contents > a.news_tit\n",
    "            url_element = driver.find_element(By.CSS_SELECTOR, url_selector)\n",
    "            url = url_element.get_attribute('href')\n",
    "            \n",
    "            # 제목 가져오기\n",
    "            title_selector = f\"#sp_nws{i} > div > div > div.news_contents > a.news_tit\"  \n",
    "            title_element = driver.find_element(By.CSS_SELECTOR, title_selector)\n",
    "            title = title_element.text  # 제목 텍스트를 가져옵니다.\n",
    "\n",
    "            # 썸네일 이미지 URL 가져오기\n",
    "            #sp_nws1 > div > div > div.news_contents > a.dsc_thumb > img\n",
    "            #sp_nws2 > div > div > div.news_contents > a.dsc_thumb > img\n",
    "            thumb_selector = f\"#sp_nws{i} > div > div > div.news_contents > a.dsc_thumb > img\"\n",
    "            thumb_element = driver.find_element(By.CSS_SELECTOR, thumb_selector)\n",
    "            thumb_url = thumb_element.get_attribute('src')\n",
    "\n",
    "            break  # 원하는 데이터를 찾았으니 while 루프를 종료합니다.\n",
    "            if i > 10:  # 무한 루프 방지를 위한 조건, 예를 들어 10개 항목까지만 검색\n",
    "                print(\"썸네일을 찾을 수 없습니다.\")\n",
    "                break\n",
    "        except NoSuchElementException:\n",
    "            # 해당 항목에 썸네일 이미지가 없는 경우, 다음 항목으로 넘어갑니다.\n",
    "            i += 1\n",
    "            continue\n",
    "    driver.close()\n",
    "    return url,thumb_url,title\n",
    "    "
   ]
  },
  {
   "cell_type": "code",
   "execution_count": 3,
   "id": "e0fa24d8",
   "metadata": {},
   "outputs": [],
   "source": [
    "#real > test완료\n",
    "def diet_find():\n",
    "    #1.크롬창 생성\n",
    "    driver=wb.Chrome()\n",
    "    #2. 다이어트 식단 <<블로그>> 최신순 사이트 들어가기\n",
    "    driver.get(\"https://search.naver.com/search.naver?sm=tab_hty.top&ssc=tab.blog.all&query=%EB%8B%A4%EC%9D%B4%EC%96%B4%ED%8A%B8%EC%8B%9D%EB%8B%A8&oquery=%EC%9A%B4%EB%8F%99%EC%8B%9D%EB%8B%A8&tqi=ilZaysqo1LVssiHsYiZssssssQG-487062&nso=so%3Add%2Cp%3Aall\")\n",
    "    print(\"Current session is {}\".format(driver.session_id))\n",
    "    #3.크롤링해온 값에 image가 없다면 찾을 수 없음 출력, 있다면 뉴스 url과 썸네일 url가져오기\n",
    "    i = 1\n",
    "    while True:\n",
    "        try:\n",
    "            # URL 가져오기\n",
    "            \n",
    "            #main_pack > section > div.api_subject_bx > ul > li:nth-child(1) > div > div.detail_box > div.title_area > a\n",
    "            \n",
    "            url_selector = f\"#main_pack > section > div.api_subject_bx > ul > li:nth-child({i}) > div > div.detail_box > div.title_area > a\"\n",
    "            url_element = driver.find_element(By.CSS_SELECTOR, url_selector)\n",
    "            url = url_element.get_attribute('href')\n",
    "            \n",
    "            # 제목 가져오기\n",
    "            #main_pack > section > div.api_subject_bx > ul > li:nth-child({i}) > div > div.detail_box > div.title_area > a\n",
    "            title_selector = f\"#main_pack > section > div.api_subject_bx > ul > li:nth-child({i}) > div > div.detail_box > div.title_area > a\" \n",
    "            title_element = driver.find_element(By.CSS_SELECTOR, title_selector)\n",
    "            title = title_element.text  # 제목 텍스트를 가져옵니다.\n",
    "\n",
    "            # 썸네일 이미지 URL 가져오기\n",
    "            #main_pack > section > div.api_subject_bx > ul > li:nth-child(2) > div > div.detail_box > div.mod_ugc_thumb_area > a > img\n",
    "            thumb_selector = f\"#main_pack > section > div.api_subject_bx > ul > li:nth-child({i}) > div > div.detail_box > div.mod_ugc_thumb_area > a > img\"\n",
    "            thumb_element = driver.find_element(By.CSS_SELECTOR, thumb_selector)\n",
    "            thumb_url = thumb_element.get_attribute('src')\n",
    "\n",
    "            break  # 원하는 데이터를 찾았으니 while 루프를 종료합니다.\n",
    "        except NoSuchElementException:\n",
    "            # 해당 항목에 썸네일 이미지가 없는 경우, 다음 항목으로 넘어갑니다.\n",
    "            i += 1\n",
    "            if i > 10:  # 무한 루프 방지를 위한 조건, 예를 들어 10개 항목까지만 검색\n",
    "                print(\"썸네일을 찾을 수 없습니다.\")\n",
    "                break        \n",
    "    driver.close()\n",
    "    return url,thumb_url,title\n"
   ]
  },
  {
   "cell_type": "code",
   "execution_count": 4,
   "id": "7e5ab74d",
   "metadata": {},
   "outputs": [],
   "source": [
    "#real > test완료\n",
    "def routine_find():\n",
    "    #1.크롬창 생성\n",
    "    driver=wb.Chrome()\n",
    "    #2. 운동루틴.<<블로그>> 최신순 사이트 들어가기\n",
    "    driver.get(\"https://search.naver.com/search.naver?ssc=tab.blog.all&query=%ED%97%AC%EC%8A%A4%EB%A3%A8%ED%8B%B4&sm=tab_opt&nso=so%3Add%2Cp%3Aall\")\n",
    "    #3.크롤링해온 값에 image가 없다면 찾을 수 없음 출력, 있다면 블로그 url과 썸네일 url가져오기\n",
    "    i = 1\n",
    "    while True:\n",
    "        try:\n",
    "            # URL 가져오기\n",
    "            #main_pack > section > div.api_subject_bx > ul > li:nth-child(1) > div > div.detail_box > div.title_area > a\n",
    "            url_selector = f\"#main_pack > section > div.api_subject_bx > ul > li:nth-child({i}) > div > div.detail_box > div.title_area > a\"\n",
    "            url_element = driver.find_element(By.CSS_SELECTOR, url_selector)\n",
    "            url = url_element.get_attribute('href')\n",
    "            \n",
    "            # 제목 가져오기\n",
    "            #main_pack > section > div.api_subject_bx > ul > li:nth-child(1) > div > div.detail_box > div.title_area > a\n",
    "            title_selector = f\"#main_pack > section > div.api_subject_bx > ul > li:nth-child({i}) > div > div.detail_box > div.title_area > a\"  # 적절한 셀렉터로 수정해야 합니다.\n",
    "            title_element = driver.find_element(By.CSS_SELECTOR, title_selector)\n",
    "            title = title_element.text  # 제목 텍스트를 가져옵니다.\n",
    "            \n",
    "            # 썸네일 이미지 URL 가져오기\n",
    "            #main_pack > section > div.api_subject_bx > ul > li:nth-child(1) > div > div.detail_box > div.mod_ugc_thumb_area > div > div:nth-child(2) > a > img\n",
    "            thumb_selector = f\"#main_pack > section > div.api_subject_bx > ul > li:nth-child({i}) > div > div.detail_box > div.mod_ugc_thumb_area > div > div:nth-child(1) > a > img\"\n",
    "            thumb_element = driver.find_element(By.CSS_SELECTOR, thumb_selector)\n",
    "            thumb_url = thumb_element.get_attribute('src')\n",
    "\n",
    "            break  # 원하는 데이터를 찾았으니 while 루프를 종료합니다.\n",
    "        except NoSuchElementException:\n",
    "            # 해당 항목에 썸네일 이미지가 없는 경우, 다음 항목으로 넘어갑니다.\n",
    "            i += 1\n",
    "            if i > 10:  # 무한 루프 방지를 위한 조건, 예를 들어 10개 항목까지만 검색\n",
    "                print(\"썸네일을 찾을 수 없습니다.\")\n",
    "                break\n",
    "    driver.close()\n",
    "    return url,thumb_url,title\n",
    "\n",
    "    "
   ]
  },
  {
   "cell_type": "markdown",
   "id": "cdab0aed",
   "metadata": {},
   "source": [
    "# test\n",
    "  - 1).최신것 자동화 및 url가져오기 완성!!!! >>각 파트별 n-3까지 완성\n",
    "  - 2). 화면에 a태그누르면 접속 가능하게 세팅 성공\n",
    "  \n",
    "  - 남은 과제 \n",
    "  - ①url을 받아서 첫번째 사진,타이틀 링크 받아오기 >> 사진없는 블로그 만남?! >조건문을 걸어서 img없을때는 공용사진사용?! 개어려운데? ㅠ\n",
    "  - ②사진 링크 홈페이지에 띄워서 클릭시에 사이트로 들어가게끔 로직 짜기\n",
    "  - ③(teacher 조언)화면이 로딩이 끝난 후에 작동이되게끔(?)"
   ]
  },
  {
   "cell_type": "code",
   "execution_count": null,
   "id": "37b9d5af",
   "metadata": {},
   "outputs": [],
   "source": [
    "#(1)\n",
    "driver=wb.Chrome()\n",
    "    #2. 운동식단.뉴스 최신순 사이트 들어가기\n",
    "driver.get(\"https://search.naver.com/search.naver?where=news&query=%EC%9A%B4%EB%8F%99%EC%8B%9D%EB%8B%A8&sm=tab_opt&sort=1&photo=0&field=0&pd=0&ds=&de=&docid=&related=0&mynews=0&office_type=0&office_section_code=0&news_office_checked=&nso=so%3Add%2Cp%3Aall&is_sug_officeid=0&office_category=0&service_area=0\")\n",
    "    #3.최상단 뉴스 기사 \n",
    "url_news=driver.find_element(By.CSS_SELECTOR,\"#sp_nws1 > div > div > div.news_contents > a.news_tit\")\n",
    "    #4.url가져오기\n",
    "news_url = url_news.get_attribute(\"href\")\n",
    "#5. 사이트 들어가서 "
   ]
  },
  {
   "cell_type": "code",
   "execution_count": null,
   "id": "f595a4fc",
   "metadata": {},
   "outputs": [],
   "source": [
    "news_url"
   ]
  },
  {
   "cell_type": "code",
   "execution_count": null,
   "id": "1e18fbd4",
   "metadata": {},
   "outputs": [],
   "source": [
    "driver=wb.Chrome()\n",
    "    #2. 운동루틴.블로그 최신순 사이트 들어가기\n",
    "driver.get(\"https://search.naver.com/search.naver?ssc=tab.blog.all&query=%EC%9A%B4%EB%8F%99%EB%A3%A8%ED%8B%B4&sm=tab_opt&nso=so%3Add%2Cp%3Aall\")\n",
    "    #3.최상단 블로그 텍스트 크롤링\n",
    "url_routine=driver.find_element(By.CSS_SELECTOR,\"#main_pack > section > div.api_subject_bx > ul > li:nth-child(1) > div > div.detail_box > div.title_area > a\")\n",
    "    #4.url\n",
    "routine_url = url_routine.get_attribute(\"href\")"
   ]
  },
  {
   "cell_type": "code",
   "execution_count": null,
   "id": "2d64f82f",
   "metadata": {},
   "outputs": [],
   "source": [
    "routine_url"
   ]
  },
  {
   "cell_type": "code",
   "execution_count": null,
   "id": "df4de98b",
   "metadata": {},
   "outputs": [],
   "source": [
    "#1.크롬창 생성\n",
    "driver=wb.Chrome()\n",
    "\n",
    "#2. 다이어트 식단.블로그 최신순 사이트 들어가기\n",
    "driver.get(\"https://search.naver.com/search.naver?sm=tab_sug.top&ssc=tab.blog.all&query=%EB%8B%A4%EC%9D%B4%EC%96%B4%ED%8A%B8+%EC%8B%9D%EB%8B%A8&oquery=%EC%8B%9D%EB%8B%A8&tqi=iQzdXsqo1Sossbax6d8sssssskd-179973&acq=%EC%8B%9D%EB%8B%A8&acr=4&qdt=0&nso=so%3Add%2Cp%3Aall\")\n",
    "\n",
    "#3.최상단 블로그 크롤링 >url가져오기(완)\n",
    "url_diet_element=driver.find_element(By.CSS_SELECTOR,\"#main_pack > section > div.api_subject_bx > ul > li:nth-child(1) > div > div.detail_box > div.title_area > a\")\n",
    "url_diet=url_diet_element.get_attribute('href')\n",
    "thumb_diet_element=driver.find_element(By.CSS_SELECTOR, \"#main_pack > section > div.api_subject_bx > ul > li:nth-child(1) > div > div.detail_box > div.mod_ugc_thumb_area > a > img\")\n",
    "thumb_diet=thumb_diet_element.get_attribute('src')\n",
    "print('url', url_diet)\n",
    "print('썸네일',thumb_diet)\n",
    "#3-2.크롤링해온 값에 image가 없다면li:nth-child(i) i++로 변화하라\n",
    "\n",
    "\n",
    "while(True):\n",
    "    try:\n",
    "        src=\"#main_pack > section > div.api_subject_bx > ul > li:nth-child(i) > div > div.detail_box > div.mod_ugc_thumb_area > a > img\"\n",
    "        break\n",
    "    except:\n",
    "        href=\"#main_pack > section > div.api_subject_bx > ul > li:nth-child(i) > div > div.detail_box > div.title_area > a\n",
    "        continue\n",
    "        \n",
    "#    if(a.thumb==)\n",
    "#main_pack > section > div.api_subject_bx > ul > li:nth-child(1) > div > div.detail_box > div.title_area > a\n",
    "#3-3. if a.thumb(i) 가 있다면 첫번째 사진을 가져오고 title과 thumb를 가져와라\n",
    "\n",
    "#3-4. title과 thumb를 누르면 해당 블로그url으로 갈수 있게 설정\n",
    "\n",
    "#뉴스 선택자\n",
    "#main_pack > section > div.api_subject_bx > ul > li:nth-child(1)\n",
    "#main_pack > section > div.api_subject_bx > ul > li:nth-child(2)\n",
    "\n",
    "#사진 선택자 추출\n",
    "#main_pack > section > div.api_subject_bx > ul > li:nth-child(1) > div > div.detail_box > div.mod_ugc_thumb_area > a > img\n",
    "#main_pack > section > div.api_subject_bx > ul > li:nth-child(2) > div > div.detail_box > div.mod_ugc_thumb_area > a > img\n",
    "#main_pack > section > div.api_subject_bx > ul > li:nth-child(3) > div > div.detail_box > div.mod_ugc_thumb_area > div > div:nth-child(1) > a > img\n",
    "\n",
    "\n",
    "\n",
    "#5.타이틀 가져오기 >> 블로그 타이틀 가져오려고했는데 선택자가 계속바뀌네??!\n",
    "#title_diet = driver.find.element(By.CSS_SELECTOR,\"\")\n",
    "#SE-E49689B3-D2AF-42FC-89A1-B87EC06C58F5 \n",
    "#SE-5FC0211A-867F-4200-A7FB-0F4ABA6AEBFC\n",
    "\n",
    "#6.변수에 담아서 보낼준비\n",
    "#diet_url = url_diet.get_attribute(\"href\")\n",
    "#diet_title = title_diet.get_attribute(\"href\")\n",
    "\n",
    "#값 확인\n",
    "#diet_url,diet_title"
   ]
  },
  {
   "cell_type": "code",
   "execution_count": null,
   "id": "5079944f",
   "metadata": {},
   "outputs": [],
   "source": [
    "driver=wb.Chrome()\n",
    "    #2. 다이어트 식단.블로그 최신순 사이트 들어가기\n",
    "driver.get(\"https://search.naver.com/search.naver?sm=tab_sug.top&ssc=tab.blog.all&query=%EB%8B%A4%EC%9D%B4%EC%96%B4%ED%8A%B8+%EC%8B%9D%EB%8B%A8&oquery=%EC%8B%9D%EB%8B%A8&tqi=iQzdXsqo1Sossbax6d8sssssskd-179973&acq=%EC%8B%9D%EB%8B%A8&acr=4&qdt=0&nso=so%3Add%2Cp%3Aall\")\n",
    "    #3.최상단 블로그 크롤링\n",
    "url_diet=driver.find_element(By.CSS_SELECTOR,\"#main_pack > section > div.api_subject_bx > ul > li:nth-child(1) > div > div.detail_box > div.title_area > a\")\n",
    "    #4.url가져오기\n",
    "img_diet = driver.find.element(By.CSS_SELECTOR,\"#SE-5FC0211A-867F-4200-A7FB-0F4ABA6AEBFC\")"
   ]
  },
  {
   "cell_type": "code",
   "execution_count": null,
   "id": "3f7c2e16",
   "metadata": {},
   "outputs": [],
   "source": [
    "#1.크롬창 생성\n",
    "driver = wb.Chrome()\n",
    "#2. 다이어트 식단.블로그 최신순 사이트 들어가기\n",
    "driver.get(\"https://search.naver.com/search.naver?sm=tab_sug.top&ssc=tab.blog.all&query=%EB%8B%A4%EC%9D%B4%EC%96%B4%ED%8A%B8+%EC%8B%9D%EB%8B%A8&oquery=%EC%8B%9D%EB%8B%A8&tqi=iQzdXsqo1Sossbax6d8sssssskd-179973&acq=%EC%8B%9D%EB%8B%A8&acr=4&qdt=0&nso=so%3Add%2Cp%3Aall\")\n",
    "\n",
    "\n",
    "\n",
    "\n",
    "\n",
    "#3.크롤링해온 값에 image가 없다면 찾을 수 없음 출력, 있다면 블로그 url과 썸네일 url가져오기\n",
    "i = 1\n",
    "while True:\n",
    "    try:\n",
    "        # URL 가져오기\n",
    "        url_selector = f\"#main_pack > section > div.api_subject_bx > ul > li:nth-child({i}) > div > div.detail_box > div.title_area > a\"\n",
    "        url_element = driver.find_element(By.CSS_SELECTOR, url_selector)\n",
    "        url = url_element.get_attribute('href')\n",
    "\n",
    "        # 썸네일 이미지 URL 가져오기\n",
    "        thumb_selector = f\"#main_pack > section > div.api_subject_bx > ul > li:nth-child({i}) > div > div.detail_box > div.mod_ugc_thumb_area > a > img\"\n",
    "        thumb_element = driver.find_element(By.CSS_SELECTOR, thumb_selector)\n",
    "        thumb_url = thumb_element.get_attribute('src')\n",
    "\n",
    "        print(f\"블로그 URL: {url}\")\n",
    "        print(f\"썸네일 URL: {thumb_url}\")\n",
    "        break  # 원하는 데이터를 찾았으니 while 루프를 종료합니다.\n",
    "    except NoSuchElementException:\n",
    "        # 해당 항목에 썸네일 이미지가 없는 경우, 다음 항목으로 넘어갑니다.\n",
    "        i += 1\n",
    "        if i > 10:  # 무한 루프 방지를 위한 조건, 예를 들어 10개 항목까지만 검색\n",
    "            print(\"썸네일을 찾을 수 없습니다.\")\n",
    "            break\n",
    "# driver.close()"
   ]
  },
  {
   "cell_type": "code",
   "execution_count": null,
   "id": "661d3114",
   "metadata": {},
   "outputs": [],
   "source": [
    "driver=wb.Chrome()\n",
    "#2. 다이어트 식단 블로그 최신순 사이트 들어가기\n",
    "driver.get(\"https://search.naver.com/search.naver?where=news&query=%EC%9A%B4%EB%8F%99%EC%8B%9D%EB%8B%A8&sm=tab_opt&sort=1&photo=0&field=0&pd=0&ds=&de=&docid=&related=0&mynews=0&office_type=0&office_section_code=0&news_office_checked=&nso=so%3Add%2Cp%3Aall&is_sug_officeid=0&office_category=0&service_area=0\")\n",
    "#3.크롤링해온 값에 image가 없다면 찾을 수 없음 출력, 있다면 뉴스 url과 썸네일 url가져오기\n",
    "i = 1\n",
    "while True:\n",
    "    try:\n",
    "            # URL 가져오기\n",
    "        url_selector = f\"#main_pack > section > div.api_subject_bx > ul > li:nth-child({i}) > div > div.detail_box > div.title_area > a\"\n",
    "        url_element = driver.find_element(By.CSS_SELECTOR, url_selector)\n",
    "        url = url_element.get_attribute('href')\n",
    "\n",
    "            # 썸네일 이미지 URL 가져오기\n",
    "        thumb_selector = f\"#main_pack > section > div.api_subject_bx > ul > li:nth-child({i}) > div > div.detail_box > div.mod_ugc_thumb_area > a > img\"\n",
    "        thumb_element = driver.find_element(By.CSS_SELECTOR, thumb_selector)\n",
    "        thumb_url = thumb_element.get_attribute('src')\n",
    "            \n",
    "        print(f\"블로그 URL: {url}\")\n",
    "        print(f\"썸네일 URL: {thumb_url}\")\n",
    "\n",
    "        break  # 원하는 데이터를 찾았으니 while 루프를 종료합니다.\n",
    "    except NoSuchElementException:\n",
    "            # 해당 항목에 썸네일 이미지가 없는 경우, 다음 항목으로 넘어갑니다.\n",
    "        i += 1\n",
    "        if i > 10:  # 무한 루프 방지를 위한 조건, 예를 들어 10개 항목까지만 검색\n",
    "            print(\"썸네일을 찾을 수 없습니다.\")\n",
    "            break\n",
    "driver.close()\n"
   ]
  },
  {
   "cell_type": "code",
   "execution_count": null,
   "id": "287dfdac",
   "metadata": {},
   "outputs": [],
   "source": []
  },
  {
   "cell_type": "code",
   "execution_count": null,
   "id": "7e44171e",
   "metadata": {},
   "outputs": [],
   "source": []
  },
  {
   "cell_type": "code",
   "execution_count": null,
   "id": "224ffaf1",
   "metadata": {},
   "outputs": [],
   "source": []
  }
 ],
 "metadata": {
  "kernelspec": {
   "display_name": "Python 3 (ipykernel)",
   "language": "python",
   "name": "python3"
  },
  "language_info": {
   "codemirror_mode": {
    "name": "ipython",
    "version": 3
   },
   "file_extension": ".py",
   "mimetype": "text/x-python",
   "name": "python",
   "nbconvert_exporter": "python",
   "pygments_lexer": "ipython3",
   "version": "3.11.5"
  }
 },
 "nbformat": 4,
 "nbformat_minor": 5
}
